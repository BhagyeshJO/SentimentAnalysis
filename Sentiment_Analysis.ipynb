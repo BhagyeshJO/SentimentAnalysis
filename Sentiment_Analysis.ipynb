{
  "nbformat": 4,
  "nbformat_minor": 0,
  "metadata": {
    "colab": {
      "provenance": [],
      "gpuType": "T4"
    },
    "kernelspec": {
      "name": "python3",
      "display_name": "Python 3"
    },
    "language_info": {
      "name": "python"
    },
    "accelerator": "GPU",
    "gpuClass": "standard"
  },
  "cells": [
    {
      "cell_type": "code",
      "execution_count": 1,
      "metadata": {
        "colab": {
          "base_uri": "https://localhost:8080/"
        },
        "id": "w9k_8DzYN5hp",
        "outputId": "19a9e252-44ce-4e2e-c022-b490878ed466"
      },
      "outputs": [
        {
          "output_type": "stream",
          "name": "stdout",
          "text": [
            "Looking in indexes: https://pypi.org/simple, https://us-python.pkg.dev/colab-wheels/public/simple/\n",
            "Requirement already satisfied: scikit-learn in /usr/local/lib/python3.10/dist-packages (1.2.2)\n",
            "Requirement already satisfied: nltk in /usr/local/lib/python3.10/dist-packages (3.8.1)\n",
            "Requirement already satisfied: numpy>=1.17.3 in /usr/local/lib/python3.10/dist-packages (from scikit-learn) (1.22.4)\n",
            "Requirement already satisfied: scipy>=1.3.2 in /usr/local/lib/python3.10/dist-packages (from scikit-learn) (1.10.1)\n",
            "Requirement already satisfied: joblib>=1.1.1 in /usr/local/lib/python3.10/dist-packages (from scikit-learn) (1.2.0)\n",
            "Requirement already satisfied: threadpoolctl>=2.0.0 in /usr/local/lib/python3.10/dist-packages (from scikit-learn) (3.1.0)\n",
            "Requirement already satisfied: click in /usr/local/lib/python3.10/dist-packages (from nltk) (8.1.3)\n",
            "Requirement already satisfied: regex>=2021.8.3 in /usr/local/lib/python3.10/dist-packages (from nltk) (2022.10.31)\n",
            "Requirement already satisfied: tqdm in /usr/local/lib/python3.10/dist-packages (from nltk) (4.65.0)\n"
          ]
        }
      ],
      "source": [
        "pip install scikit-learn nltk"
      ]
    },
    {
      "cell_type": "code",
      "source": [
        "import nltk\n",
        "from nltk.corpus import stopwords\n",
        "from sklearn.feature_extraction.text import TfidfVectorizer\n",
        "from sklearn.model_selection import train_test_split\n",
        "from sklearn.svm import LinearSVC\n",
        "from sklearn.metrics import accuracy_score\n",
        "import pandas as pd\n",
        "\n"
      ],
      "metadata": {
        "id": "P5uD1p33OaHK"
      },
      "execution_count": 4,
      "outputs": []
    },
    {
      "cell_type": "code",
      "source": [
        "nltk.download('stopwords')\n"
      ],
      "metadata": {
        "colab": {
          "base_uri": "https://localhost:8080/"
        },
        "id": "v9gU4VvGOcfv",
        "outputId": "988c156a-99c5-4b7d-9389-b6e16e8a815f"
      },
      "execution_count": 3,
      "outputs": [
        {
          "output_type": "stream",
          "name": "stderr",
          "text": [
            "[nltk_data] Downloading package stopwords to /root/nltk_data...\n",
            "[nltk_data]   Unzipping corpora/stopwords.zip.\n"
          ]
        },
        {
          "output_type": "execute_result",
          "data": {
            "text/plain": [
              "True"
            ]
          },
          "metadata": {},
          "execution_count": 3
        }
      ]
    },
    {
      "cell_type": "code",
      "source": [
        "# Specify the path to your CSV file\n",
        "csv_path = '/content/dataset.csv'\n",
        "\n",
        "# Load the CSV file into a pandas DataFrame\n",
        "data = pd.read_csv(csv_path)\n"
      ],
      "metadata": {
        "id": "U4vc-k7SOuUb"
      },
      "execution_count": 5,
      "outputs": []
    },
    {
      "cell_type": "code",
      "source": [
        "data.head()"
      ],
      "metadata": {
        "colab": {
          "base_uri": "https://localhost:8080/",
          "height": 634
        },
        "id": "_IO3R0kHO0Bz",
        "outputId": "418e4f4a-d0b6-4122-9594-56a1fbbc0771"
      },
      "execution_count": 8,
      "outputs": [
        {
          "output_type": "execute_result",
          "data": {
            "text/plain": [
              "                               reviewId  \\\n",
              "0  326d4bdd-8fc6-4d64-b3bf-ce393fb2ae9b   \n",
              "1  4bbf741b-2f69-43cd-bb76-f9b5f84c83b5   \n",
              "2  3cb1136d-e7c6-4999-aa84-fdc7bcdccf56   \n",
              "3  d6f80f05-a6e8-44f3-a380-7c59ed3d208b   \n",
              "4  eecb277c-c658-4b2d-86c9-77d3a7022cac   \n",
              "\n",
              "                                             content  score  thumbsUpCount  \\\n",
              "0                                               woww      5              0   \n",
              "1                let me know more details about this      3              0   \n",
              "2  i've been using this for a while and there's a...      2              0   \n",
              "3                                               good      2              0   \n",
              "4                                             mjkobe      5              0   \n",
              "\n",
              "  reviewCreatedVersion                   at replyContent repliedAt  \\\n",
              "0                  NaN  2022-08-16 05:55:38          NaN       NaN   \n",
              "1          4.5.1143533  2022-08-16 04:44:45          NaN       NaN   \n",
              "2          4.5.1143533  2022-08-16 04:05:27          NaN       NaN   \n",
              "3          4.5.1143533  2022-08-16 00:22:33          NaN       NaN   \n",
              "4          4.5.1143533  2022-08-15 20:08:25          NaN       NaN   \n",
              "\n",
              "  predicted_category sentiment appVersion  \n",
              "0    USER_EXPERIENCE   NEUTRAL        NaN  \n",
              "1            CONTENT   NEUTRAL        NaN  \n",
              "2          INTERFACE  NEGATIVE        NaN  \n",
              "3    USER_EXPERIENCE  POSITIVE        NaN  \n",
              "4    USER_EXPERIENCE   NEUTRAL        NaN  "
            ],
            "text/html": [
              "\n",
              "  <div id=\"df-428722f6-a0c0-4b2a-8aca-acbfa4f1bd8f\">\n",
              "    <div class=\"colab-df-container\">\n",
              "      <div>\n",
              "<style scoped>\n",
              "    .dataframe tbody tr th:only-of-type {\n",
              "        vertical-align: middle;\n",
              "    }\n",
              "\n",
              "    .dataframe tbody tr th {\n",
              "        vertical-align: top;\n",
              "    }\n",
              "\n",
              "    .dataframe thead th {\n",
              "        text-align: right;\n",
              "    }\n",
              "</style>\n",
              "<table border=\"1\" class=\"dataframe\">\n",
              "  <thead>\n",
              "    <tr style=\"text-align: right;\">\n",
              "      <th></th>\n",
              "      <th>reviewId</th>\n",
              "      <th>content</th>\n",
              "      <th>score</th>\n",
              "      <th>thumbsUpCount</th>\n",
              "      <th>reviewCreatedVersion</th>\n",
              "      <th>at</th>\n",
              "      <th>replyContent</th>\n",
              "      <th>repliedAt</th>\n",
              "      <th>predicted_category</th>\n",
              "      <th>sentiment</th>\n",
              "      <th>appVersion</th>\n",
              "    </tr>\n",
              "  </thead>\n",
              "  <tbody>\n",
              "    <tr>\n",
              "      <th>0</th>\n",
              "      <td>326d4bdd-8fc6-4d64-b3bf-ce393fb2ae9b</td>\n",
              "      <td>woww</td>\n",
              "      <td>5</td>\n",
              "      <td>0</td>\n",
              "      <td>NaN</td>\n",
              "      <td>2022-08-16 05:55:38</td>\n",
              "      <td>NaN</td>\n",
              "      <td>NaN</td>\n",
              "      <td>USER_EXPERIENCE</td>\n",
              "      <td>NEUTRAL</td>\n",
              "      <td>NaN</td>\n",
              "    </tr>\n",
              "    <tr>\n",
              "      <th>1</th>\n",
              "      <td>4bbf741b-2f69-43cd-bb76-f9b5f84c83b5</td>\n",
              "      <td>let me know more details about this</td>\n",
              "      <td>3</td>\n",
              "      <td>0</td>\n",
              "      <td>4.5.1143533</td>\n",
              "      <td>2022-08-16 04:44:45</td>\n",
              "      <td>NaN</td>\n",
              "      <td>NaN</td>\n",
              "      <td>CONTENT</td>\n",
              "      <td>NEUTRAL</td>\n",
              "      <td>NaN</td>\n",
              "    </tr>\n",
              "    <tr>\n",
              "      <th>2</th>\n",
              "      <td>3cb1136d-e7c6-4999-aa84-fdc7bcdccf56</td>\n",
              "      <td>i've been using this for a while and there's a...</td>\n",
              "      <td>2</td>\n",
              "      <td>0</td>\n",
              "      <td>4.5.1143533</td>\n",
              "      <td>2022-08-16 04:05:27</td>\n",
              "      <td>NaN</td>\n",
              "      <td>NaN</td>\n",
              "      <td>INTERFACE</td>\n",
              "      <td>NEGATIVE</td>\n",
              "      <td>NaN</td>\n",
              "    </tr>\n",
              "    <tr>\n",
              "      <th>3</th>\n",
              "      <td>d6f80f05-a6e8-44f3-a380-7c59ed3d208b</td>\n",
              "      <td>good</td>\n",
              "      <td>2</td>\n",
              "      <td>0</td>\n",
              "      <td>4.5.1143533</td>\n",
              "      <td>2022-08-16 00:22:33</td>\n",
              "      <td>NaN</td>\n",
              "      <td>NaN</td>\n",
              "      <td>USER_EXPERIENCE</td>\n",
              "      <td>POSITIVE</td>\n",
              "      <td>NaN</td>\n",
              "    </tr>\n",
              "    <tr>\n",
              "      <th>4</th>\n",
              "      <td>eecb277c-c658-4b2d-86c9-77d3a7022cac</td>\n",
              "      <td>mjkobe</td>\n",
              "      <td>5</td>\n",
              "      <td>0</td>\n",
              "      <td>4.5.1143533</td>\n",
              "      <td>2022-08-15 20:08:25</td>\n",
              "      <td>NaN</td>\n",
              "      <td>NaN</td>\n",
              "      <td>USER_EXPERIENCE</td>\n",
              "      <td>NEUTRAL</td>\n",
              "      <td>NaN</td>\n",
              "    </tr>\n",
              "  </tbody>\n",
              "</table>\n",
              "</div>\n",
              "      <button class=\"colab-df-convert\" onclick=\"convertToInteractive('df-428722f6-a0c0-4b2a-8aca-acbfa4f1bd8f')\"\n",
              "              title=\"Convert this dataframe to an interactive table.\"\n",
              "              style=\"display:none;\">\n",
              "        \n",
              "  <svg xmlns=\"http://www.w3.org/2000/svg\" height=\"24px\"viewBox=\"0 0 24 24\"\n",
              "       width=\"24px\">\n",
              "    <path d=\"M0 0h24v24H0V0z\" fill=\"none\"/>\n",
              "    <path d=\"M18.56 5.44l.94 2.06.94-2.06 2.06-.94-2.06-.94-.94-2.06-.94 2.06-2.06.94zm-11 1L8.5 8.5l.94-2.06 2.06-.94-2.06-.94L8.5 2.5l-.94 2.06-2.06.94zm10 10l.94 2.06.94-2.06 2.06-.94-2.06-.94-.94-2.06-.94 2.06-2.06.94z\"/><path d=\"M17.41 7.96l-1.37-1.37c-.4-.4-.92-.59-1.43-.59-.52 0-1.04.2-1.43.59L10.3 9.45l-7.72 7.72c-.78.78-.78 2.05 0 2.83L4 21.41c.39.39.9.59 1.41.59.51 0 1.02-.2 1.41-.59l7.78-7.78 2.81-2.81c.8-.78.8-2.07 0-2.86zM5.41 20L4 18.59l7.72-7.72 1.47 1.35L5.41 20z\"/>\n",
              "  </svg>\n",
              "      </button>\n",
              "      \n",
              "  <style>\n",
              "    .colab-df-container {\n",
              "      display:flex;\n",
              "      flex-wrap:wrap;\n",
              "      gap: 12px;\n",
              "    }\n",
              "\n",
              "    .colab-df-convert {\n",
              "      background-color: #E8F0FE;\n",
              "      border: none;\n",
              "      border-radius: 50%;\n",
              "      cursor: pointer;\n",
              "      display: none;\n",
              "      fill: #1967D2;\n",
              "      height: 32px;\n",
              "      padding: 0 0 0 0;\n",
              "      width: 32px;\n",
              "    }\n",
              "\n",
              "    .colab-df-convert:hover {\n",
              "      background-color: #E2EBFA;\n",
              "      box-shadow: 0px 1px 2px rgba(60, 64, 67, 0.3), 0px 1px 3px 1px rgba(60, 64, 67, 0.15);\n",
              "      fill: #174EA6;\n",
              "    }\n",
              "\n",
              "    [theme=dark] .colab-df-convert {\n",
              "      background-color: #3B4455;\n",
              "      fill: #D2E3FC;\n",
              "    }\n",
              "\n",
              "    [theme=dark] .colab-df-convert:hover {\n",
              "      background-color: #434B5C;\n",
              "      box-shadow: 0px 1px 3px 1px rgba(0, 0, 0, 0.15);\n",
              "      filter: drop-shadow(0px 1px 2px rgba(0, 0, 0, 0.3));\n",
              "      fill: #FFFFFF;\n",
              "    }\n",
              "  </style>\n",
              "\n",
              "      <script>\n",
              "        const buttonEl =\n",
              "          document.querySelector('#df-428722f6-a0c0-4b2a-8aca-acbfa4f1bd8f button.colab-df-convert');\n",
              "        buttonEl.style.display =\n",
              "          google.colab.kernel.accessAllowed ? 'block' : 'none';\n",
              "\n",
              "        async function convertToInteractive(key) {\n",
              "          const element = document.querySelector('#df-428722f6-a0c0-4b2a-8aca-acbfa4f1bd8f');\n",
              "          const dataTable =\n",
              "            await google.colab.kernel.invokeFunction('convertToInteractive',\n",
              "                                                     [key], {});\n",
              "          if (!dataTable) return;\n",
              "\n",
              "          const docLinkHtml = 'Like what you see? Visit the ' +\n",
              "            '<a target=\"_blank\" href=https://colab.research.google.com/notebooks/data_table.ipynb>data table notebook</a>'\n",
              "            + ' to learn more about interactive tables.';\n",
              "          element.innerHTML = '';\n",
              "          dataTable['output_type'] = 'display_data';\n",
              "          await google.colab.output.renderOutput(dataTable, element);\n",
              "          const docLink = document.createElement('div');\n",
              "          docLink.innerHTML = docLinkHtml;\n",
              "          element.appendChild(docLink);\n",
              "        }\n",
              "      </script>\n",
              "    </div>\n",
              "  </div>\n",
              "  "
            ]
          },
          "metadata": {},
          "execution_count": 8
        }
      ]
    },
    {
      "cell_type": "code",
      "source": [
        "# Access specific columns\n",
        "text_data = data['content']\n",
        "labels = data['sentiment']\n"
      ],
      "metadata": {
        "id": "yFC1D5L0PDq0"
      },
      "execution_count": 9,
      "outputs": []
    },
    {
      "cell_type": "code",
      "source": [
        "# Split the data into training and test sets\n",
        "X_train, X_test, y_train, y_test = train_test_split(data['content'],data['sentiment'], test_size=0.2, random_state=42)\n"
      ],
      "metadata": {
        "id": "pCUweSJtPN2x"
      },
      "execution_count": 11,
      "outputs": []
    },
    {
      "cell_type": "code",
      "source": [
        "# Create a TF-IDF vectorizer\n",
        "vectorizer = TfidfVectorizer()\n",
        "# Fit the vectorizer on the training data and transform the training data into vectors\n",
        "X_train_vectors = vectorizer.fit_transform(X_train)\n",
        "# Transform the test data into vectors\n",
        "X_test_vectors = vectorizer.transform(X_test)\n"
      ],
      "metadata": {
        "id": "hWlEjO_LPeE_"
      },
      "execution_count": 12,
      "outputs": []
    },
    {
      "cell_type": "code",
      "source": [
        "# Initialize and train a LinearSVC classifier\n",
        "classifier = LinearSVC()\n",
        "classifier.fit(X_train_vectors, y_train)\n",
        "\n",
        "# Predict the sentiment labels for the test data\n",
        "y_pred = classifier.predict(X_test_vectors)\n",
        "\n",
        "# Calculate and print the accuracy of the model\n",
        "accuracy = accuracy_score(y_test, y_pred)\n",
        "print(\"Accuracy:\", accuracy)\n"
      ],
      "metadata": {
        "colab": {
          "base_uri": "https://localhost:8080/"
        },
        "id": "viQZU5f4Ph97",
        "outputId": "2e216b5f-eb8b-46f9-c4ef-1814f6606fdd"
      },
      "execution_count": 13,
      "outputs": [
        {
          "output_type": "stream",
          "name": "stdout",
          "text": [
            "Accuracy: 0.8923316062176165\n"
          ]
        }
      ]
    }
  ]
}